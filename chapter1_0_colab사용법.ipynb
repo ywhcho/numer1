{
  "nbformat": 4,
  "nbformat_minor": 0,
  "metadata": {
    "colab": {
      "provenance": [],
      "authorship_tag": "ABX9TyOAl7NRBHCoXeFZGBZID075",
      "include_colab_link": true
    },
    "kernelspec": {
      "name": "python3",
      "display_name": "Python 3"
    },
    "language_info": {
      "name": "python"
    }
  },
  "cells": [
    {
      "cell_type": "markdown",
      "metadata": {
        "id": "view-in-github",
        "colab_type": "text"
      },
      "source": [
        "<a href=\"https://colab.research.google.com/github/ywhcho/numer1/blob/main/chapter1_0_colab%EC%82%AC%EC%9A%A9%EB%B2%95.ipynb\" target=\"_parent\"><img src=\"https://colab.research.google.com/assets/colab-badge.svg\" alt=\"Open In Colab\"/></a>"
      ]
    },
    {
      "cell_type": "code",
      "execution_count": null,
      "metadata": {
        "id": "2NnUFfj9_IrE"
      },
      "outputs": [],
      "source": [
        "##단축키\n",
        "# ctrl +enter: 내 현재 커서의 셀을 실행\n",
        "# shift+enter: 현재 셀을 실행하고 커서을 다음 셀로 이동\n",
        "# alt + enter: 내 현재 셀을 실행하고 다음 셀을 신규로 생성\n",
        "\n",
        "# ctrl+ m + a : 내 셀 앞에 신규 셀 생성\n",
        "# ctrl+ m + b : 내 셀 뒤에 신규 셀 생성\n",
        "# ctrl+ m + d : 현재 셀을 삭제\n",
        "# ctrl+ m + z : 삭제한 셀 되돌리기\n",
        "\n",
        "# ctrl+ m + i : 실행 중인 셀 실행 중지"
      ]
    },
    {
      "cell_type": "code",
      "source": [
        "## drive 파일 접근\n",
        "# cd\n",
        "# pwd\n"
      ],
      "metadata": {
        "id": "ywRE7fznAyZg"
      },
      "execution_count": null,
      "outputs": []
    },
    {
      "cell_type": "code",
      "source": [
        "cd /content/sample_data"
      ],
      "metadata": {
        "colab": {
          "base_uri": "https://localhost:8080/"
        },
        "id": "Q9s59cJcC9iq",
        "outputId": "d11b7618-d7a2-4754-e341-5152bccd629b"
      },
      "execution_count": null,
      "outputs": [
        {
          "output_type": "stream",
          "name": "stdout",
          "text": [
            "/content/sample_data\n"
          ]
        }
      ]
    },
    {
      "cell_type": "code",
      "source": [
        "pwd"
      ],
      "metadata": {
        "colab": {
          "base_uri": "https://localhost:8080/",
          "height": 36
        },
        "id": "v-l09UMqCmCK",
        "outputId": "a97f2c01-419c-4970-ddec-fda607e1759d"
      },
      "execution_count": null,
      "outputs": [
        {
          "output_type": "execute_result",
          "data": {
            "text/plain": [
              "'/content/sample_data'"
            ],
            "application/vnd.google.colaboratory.intrinsic+json": {
              "type": "string"
            }
          },
          "metadata": {},
          "execution_count": 8
        }
      ]
    },
    {
      "cell_type": "code",
      "source": [
        "message = \"Hello, Welcomt to Python World!!\""
      ],
      "metadata": {
        "id": "-b861WYPlFQn"
      },
      "execution_count": null,
      "outputs": []
    },
    {
      "cell_type": "code",
      "source": [
        "my_Number = 3.141592    #int, float"
      ],
      "metadata": {
        "id": "IapL9RQLlP4i"
      },
      "execution_count": null,
      "outputs": []
    },
    {
      "cell_type": "code",
      "source": [
        "##data\n",
        "#단일 데이터 타입:  Mumerical(숫자자료형), Character/String(문자 자료형)\n",
        "#묶음 데이터 타입: List자료형, Tuple자료형, Dictionaary, Set(집합)자료형"
      ],
      "metadata": {
        "id": "2P-DI5eflW_E"
      },
      "execution_count": null,
      "outputs": []
    },
    {
      "cell_type": "code",
      "source": [
        "korean, math, english, science= 90, 60, 65, 100\n",
        "##덧셈\n",
        "total_score= korean + math + english + science\n",
        "print(total_score)\n",
        "##뺄셈\n",
        "korean_minus_math = korean - math\n",
        "print(korean_minus_math)\n",
        "##곱셈\n",
        "korean_double= korean * 2\n",
        "korean_square = korean ** 2;  #제곱연산자\n",
        "print(korean_square)\n",
        "korean_root = korean ** (0.5) #제곱근 연산\n",
        "print(korean_root)\n",
        "##나눗셈\n",
        "average = total_score / 4\n",
        "print(average)\n",
        "# 나머지 연산자\n",
        "modulus = total_score % 4\n",
        "print(modulus)\n",
        "#몫 연산자\n",
        "quotient = total_score //4\n",
        "print(quotient)\n"
      ],
      "metadata": {
        "colab": {
          "base_uri": "https://localhost:8080/"
        },
        "id": "YaUgOW_RtLp3",
        "outputId": "f587c806-74dc-4d04-a655-3d2b85d34e65"
      },
      "execution_count": null,
      "outputs": [
        {
          "output_type": "stream",
          "name": "stdout",
          "text": [
            "315\n",
            "30\n",
            "8100\n",
            "9.486832980505138\n",
            "78.75\n",
            "3\n",
            "78\n"
          ]
        }
      ]
    },
    {
      "cell_type": "code",
      "source": [
        "##스트링\n",
        "# String type 내 따옴표 특수 문자 넣기\n",
        "hello= \"hi Python 'my name is JAVA'\"\n",
        "hello2 = 'JAVA said \"my name is JAVA\"';\n",
        "print(hello)\n",
        "print(hello2)\n",
        "## multi-line String :  (''' ''') 또는 (\"\"\" \"\"\")\n",
        "sentences= '''\n",
        "hello world\n",
        "my name is Python\n",
        "Welcome to phthon world\n",
        "'''\n",
        "print(sentences)"
      ],
      "metadata": {
        "colab": {
          "base_uri": "https://localhost:8080/"
        },
        "id": "m3BZFQraQ736",
        "outputId": "8e8e2be1-028d-46b4-ac53-9a077b3f1cc5"
      },
      "execution_count": null,
      "outputs": [
        {
          "output_type": "stream",
          "name": "stdout",
          "text": [
            "hi Python 'my name is JAVA'\n",
            "JAVA said \"my name is JAVA\"\n",
            "\n",
            "hello world\n",
            "my name is Python\n",
            "Welcome to phthon world\n",
            "\n"
          ]
        }
      ]
    },
    {
      "cell_type": "code",
      "source": [
        "##문자열 덧셈 연산\n",
        "birthday = \"05/20\"\n",
        "sentence = \"My birthday is \" + birthday\n",
        "\n",
        "print(sentence)\n",
        "\n",
        "###문자열 곱셈 연산\n",
        "word= \"Hello\"\n",
        "print(word * 3)"
      ],
      "metadata": {
        "colab": {
          "base_uri": "https://localhost:8080/"
        },
        "id": "ydwb02I1SktI",
        "outputId": "3290aa44-ea19-4607-ff64-6da2272a160d"
      },
      "execution_count": null,
      "outputs": [
        {
          "output_type": "stream",
          "name": "stdout",
          "text": [
            "My birthday is 05/20\n",
            "HelloHelloHello\n"
          ]
        }
      ]
    },
    {
      "cell_type": "code",
      "source": [
        "## indexing(문자열 인덱싱)\n",
        "sentence = \"Hello world\"\n",
        "print(sentence[0])\n",
        "print(sentence[1])\n",
        "# 마이너스 인덱싱은 끝자기가 -1로 부터 시작한다.\n",
        "print(sentence[-1])\n",
        "print(sentence[-2])\n",
        "## slicing(슬라이싱) (숫자는 0부터 시작하는 실제 숫자)\n",
        "print(sentence[0:5])  # 0 ~4\n",
        "print(sentence[:])    # 전체\n",
        "print(sentence[5:])   # 5번째 부터\n",
        "print(sentence[:5])   # 처음부터 4번째까지\n",
        "print(sentence[:-2])  # 처움부터 뒤에서 2번째 직전까지"
      ],
      "metadata": {
        "colab": {
          "base_uri": "https://localhost:8080/"
        },
        "id": "Hdj5NUn-Tcy7",
        "outputId": "d6dae867-3c87-45e0-e2ff-9d8b0a2dab08"
      },
      "execution_count": null,
      "outputs": [
        {
          "output_type": "stream",
          "name": "stdout",
          "text": [
            "H\n",
            "e\n",
            "d\n",
            "l\n",
            "Hello\n",
            "Hello world\n",
            " world\n",
            "Hello\n",
            "Hello wor\n"
          ]
        }
      ]
    },
    {
      "cell_type": "code",
      "source": [
        "##문자열의 Formatting: 문자열 안의 특정 값을 원하는 대로 넣어 편집하는 방법\n",
        "# \"{index}\".format(변수명)  #{} :braces   []: brackets  (): parenthesis\n",
        "name = \"Python\"\n",
        "date = \"0217\"\n",
        "print(\"Hello, {0}, today is {1}\".format(name, date))\n",
        "\n",
        "## F-string Formatting  (Py3.6이상)\n",
        "#sentence= f\"Hello my name is { name }\"\n",
        "sentence= f\"Hello,{name}, today is {date}\"\n",
        "print(sentence)\n"
      ],
      "metadata": {
        "colab": {
          "base_uri": "https://localhost:8080/"
        },
        "id": "nrbRK-ECegh5",
        "outputId": "e186ccfa-d789-48a7-d1b4-f845d7f57cda"
      },
      "execution_count": null,
      "outputs": [
        {
          "output_type": "stream",
          "name": "stdout",
          "text": [
            "Hello, Python, today is 0217\n",
            "Hello,Python, today is 0217\n"
          ]
        }
      ]
    },
    {
      "cell_type": "code",
      "source": [
        "##문자열 다루기:\n",
        "#count 함수\n",
        "go_to_hell = \"\"\"\n",
        "11111111111111111111\n",
        "1111111111u111111111\n",
        "\"\"\"\n",
        "k= go_to_hell.count('1')\n",
        "print(k)\n",
        "#find\n",
        "go_to_hell.find('1')\n",
        "print(go_to_hell.find('hello'))  #있으면, 위치 return, 문자열이 없을 때는 -1 return\n",
        "i= go_to_hell.find('u')\n",
        "print(\"i=\",i)\n",
        "#len  : 문자열의 길이\n",
        "sentence= \"hello my name is python\"\n",
        "print(\n",
        "    len(sentence)\n",
        ")"
      ],
      "metadata": {
        "colab": {
          "base_uri": "https://localhost:8080/"
        },
        "id": "lHfELIqVk9iU",
        "outputId": "72862fd4-c942-4b33-da08-04d4f3f8c3b9"
      },
      "execution_count": null,
      "outputs": [
        {
          "output_type": "stream",
          "name": "stdout",
          "text": [
            "39\n",
            "-1\n",
            "i= 32\n",
            "23\n"
          ]
        }
      ]
    },
    {
      "cell_type": "code",
      "source": [
        "#lower, upper 함수\n",
        "word = 'word'\n",
        "new_word= word.upper()\n",
        "\n",
        "print(\"Upper:\", new_word)\n",
        "print(\"Lower:\", new_word.lower())"
      ],
      "metadata": {
        "colab": {
          "base_uri": "https://localhost:8080/"
        },
        "id": "npQLbsBJmxWO",
        "outputId": "1af3192a-2f8d-4f03-b272-44ee7d853d31"
      },
      "execution_count": null,
      "outputs": [
        {
          "output_type": "stream",
          "name": "stdout",
          "text": [
            "Upper: WORD\n",
            "Lower: word\n"
          ]
        }
      ]
    },
    {
      "cell_type": "code",
      "source": [
        "##replace, split\n",
        "#[replace]  바꾸는 기능\n",
        "sentence= 'hello, world, my, name, is, python'\n",
        "sentence1= sentence.replace(',', '!')\n",
        "#print(sentence)\n",
        "print(sentence1)\n",
        "#[split] 특정 문자열을 기준으로 쪼개는 기능:\n",
        "temp= sentence1.split('!')  #list 자료형으로 return한다.\n",
        "print(temp)\n"
      ],
      "metadata": {
        "colab": {
          "base_uri": "https://localhost:8080/"
        },
        "id": "lqxqVzrLpIyN",
        "outputId": "ca147c1e-3f5b-4a9e-b0e1-e2b9b3b0e662"
      },
      "execution_count": null,
      "outputs": [
        {
          "output_type": "stream",
          "name": "stdout",
          "text": [
            "hello, world, my, name, is, python\n",
            "hello! world! my! name! is! python\n",
            "['hello', ' world', ' my', ' name', ' is', ' python']\n"
          ]
        }
      ]
    },
    {
      "cell_type": "markdown",
      "source": [],
      "metadata": {
        "id": "00_hKJ8oJtXO"
      }
    },
    {
      "cell_type": "code",
      "source": [],
      "metadata": {
        "id": "DJ3ctM7kJunt"
      },
      "execution_count": null,
      "outputs": []
    },
    {
      "cell_type": "markdown",
      "source": [],
      "metadata": {
        "id": "aIMv91iclXVc"
      }
    }
  ]
}